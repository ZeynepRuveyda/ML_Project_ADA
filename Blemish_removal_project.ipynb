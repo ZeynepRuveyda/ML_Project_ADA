{
  "nbformat": 4,
  "nbformat_minor": 0,
  "metadata": {
    "colab": {
      "name": "Blemish_removal_project.ipynb",
      "provenance": [],
      "authorship_tag": "ABX9TyPzxP4RvjvL5UUkqHL3GTqI",
      "include_colab_link": true
    },
    "kernelspec": {
      "name": "python3",
      "display_name": "Python 3"
    },
    "language_info": {
      "name": "python"
    }
  },
  "cells": [
    {
      "cell_type": "markdown",
      "metadata": {
        "id": "view-in-github",
        "colab_type": "text"
      },
      "source": [
        "<a href=\"https://colab.research.google.com/github/ZeynepRuveyda/ADA/blob/main/Blemish_removal_project.ipynb\" target=\"_parent\"><img src=\"https://colab.research.google.com/assets/colab-badge.svg\" alt=\"Open In Colab\"/></a>"
      ]
    },
    {
      "cell_type": "code",
      "source": [
        "from google.colab import drive\n",
        "drive.mount('/content/drive')"
      ],
      "metadata": {
        "colab": {
          "base_uri": "https://localhost:8080/"
        },
        "id": "jPlN1AB9NETt",
        "outputId": "f3fafb9f-38cf-413b-d817-87815387f649"
      },
      "execution_count": null,
      "outputs": [
        {
          "output_type": "stream",
          "name": "stdout",
          "text": [
            "Mounted at /content/drive\n"
          ]
        }
      ]
    },
    {
      "cell_type": "code",
      "source": [
        "DATA_PATH = '/content/drive/My Drive/OpenCV_Documentation/week6/data6/'"
      ],
      "metadata": {
        "id": "RabhEWhKNH4v"
      },
      "execution_count": null,
      "outputs": []
    },
    {
      "cell_type": "code",
      "execution_count": null,
      "metadata": {
        "id": "HluJVQtyBBax"
      },
      "outputs": [],
      "source": [
        "import cv2\n",
        "import matplotlib.pyplot as plt\n",
        "import numpy as np\n",
        "import matplotlib"
      ]
    },
    {
      "cell_type": "code",
      "source": [
        "def calculateVariance(patch):\n",
        "    a = cv2.Scharr(patch, -1, 1, 0)\n",
        "    b = cv2.Scharr(patch, -1, 0, 1)\n",
        "\n",
        "    return np.abs(a) + np.abs(b)"
      ],
      "metadata": {
        "id": "rWl8nr1fEdTL"
      },
      "execution_count": null,
      "outputs": []
    },
    {
      "cell_type": "code",
      "source": [
        "def displayZoom(fragment, wndName, wndTitle=None):\n",
        "    size = (400, 400)\n",
        "    resizedFragment = cv2.resize(fragment, size)\n",
        "    if wndTitle != None:\n",
        "        cv2.setWindowTitle(wndName, wndTitle)\n",
        "    cv2.imshow(wndName, resizedFragment)"
      ],
      "metadata": {
        "id": "kTaO1DonEgj2"
      },
      "execution_count": null,
      "outputs": []
    },
    {
      "cell_type": "code",
      "source": [
        "def getPatch(ab, img):\n",
        "    patch = img[ab[1] - 15:ab[1] + 15, ab[0] - 15:ab[0] + 15]\n",
        "    return patch"
      ],
      "metadata": {
        "id": "mk3xmd_iEifc"
      },
      "execution_count": null,
      "outputs": []
    },
    {
      "cell_type": "code",
      "source": [
        "\n",
        "def pickBestAround(ab, values, image):\n",
        "    bestV = 0\n",
        "    best_ab = None\n",
        "    for move in np.array([(-1, -1), (-1, 0), (-1, 1), (0, -1), (0, 1), (1, -1), (1, 0), (1, 1)]) * 30:\n",
        "        ab_m = ab + move\n",
        "        if ab_m[ab_m<0].sum() < 0:\n",
        "            continue\n",
        "        patch = getPatch(ab_m, values)\n",
        "        variance = 1/calculateVariance(patch).sum()\n",
        "        if variance > bestV:\n",
        "            bestV = variance\n",
        "            best_ab = ab_m\n",
        "\n",
        "        return getPatch(best_ab, values), getPatch(best_ab, image)"
      ],
      "metadata": {
        "id": "YlMPmSp0ElOt"
      },
      "execution_count": null,
      "outputs": []
    },
    {
      "cell_type": "code",
      "source": [
        "def onMouse(action, a, b, flags, img):\n",
        "    if action == cv2.EVENT_LBUTTONDOWN or action == cv2.EVENT_RBUTTONDOWN:\n",
        "        gray = cv2.cvtColor(img, cv2.COLOR_BGR2HSV)[:, :, 0]\n",
        "\n",
        "        # pick the best patch and display it\n",
        "        (grayPatch, colorPatch) = pickBestAround((a, b), gray, img)\n",
        "        \n",
        "        # seamless clone the patch onto the image\n",
        "        src_mask = np.ones_like(grayPatch) * 255\n",
        "        cv2.seamlessClone(\n",
        "            colorPatch, img, src_mask, (a, b), cv2.NORMAL_CLONE, blend=img)\n",
        "        \n",
        "        if action == cv2.EVENT_RBUTTONDOWN:\n",
        "          gray = cv2.cvtColor(img, cv2.COLOR_BGR2HSV)[:, :, 0]\n",
        "          # display the selected area\n",
        "          patch, cpatch = getPatch((a,b), gray), getPatch((a,b), img)\n",
        "\n",
        "          # pick the best patch and display it\n",
        "          (grayPatch, colorPatch) = pickBestAround((a, b), gray, img)\n",
        "\n",
        "          variance = calculateVariance(patch)\n",
        "          displayZoom(cpatch, \"Variance\",\n",
        "                      \"Patch {0}\".format(np.sum(variance)))\n",
        "          variance = calculateVariance(grayPatch)\n",
        "          displayZoom(colorPatch, \"Best Patch\",\n",
        "                      \"Best Patch V={0}\".format(np.sum(variance)))"
      ],
      "metadata": {
        "id": "jfNCVVuFEnl7"
      },
      "execution_count": null,
      "outputs": []
    },
    {
      "cell_type": "code",
      "source": [
        "imagePath = DATA_PATH + '/blemish.png'\n",
        "img = cv2.imread(imagePath)\n",
        "\n",
        "# Make a dummy image, will be useful to clear the drawing\n",
        "cv2.namedWindow(\"Window\")\n",
        "# highgui function called when mouse events occur\n",
        "cv2.setMouseCallback(\"Window\", onMouse, img)\n",
        "\n"
      ],
      "metadata": {
        "id": "Z6b729cqEqYv"
      },
      "execution_count": null,
      "outputs": []
    },
    {
      "cell_type": "code",
      "source": [
        "k = 0\n",
        "while k != 27:\n",
        "    cv2.imshow(\"Window\", img)\n",
        "    k = cv2.waitKey(20)\n",
        "\n",
        "cv2.destroyAllWindows()"
      ],
      "metadata": {
        "id": "F7-4z1JkGBBd"
      },
      "execution_count": null,
      "outputs": []
    },
    {
      "cell_type": "code",
      "source": [
        ""
      ],
      "metadata": {
        "id": "g1yzwgkkGXcb"
      },
      "execution_count": null,
      "outputs": []
    }
  ]
}